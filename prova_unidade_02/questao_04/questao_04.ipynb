{
 "cells": [
  {
   "cell_type": "code",
   "execution_count": 5,
   "metadata": {},
   "outputs": [],
   "source": [
    "import numpy as np\n",
    "from scipy.spatial import ConvexHull\n",
    "import math"
   ]
  },
  {
   "cell_type": "markdown",
   "metadata": {},
   "source": [
    "# Questão 4\n",
    "\n",
    "Dado um conjunto de pontos P = [p1, p2, ..., pn], onde pi = (xi, yi)."
   ]
  },
  {
   "cell_type": "markdown",
   "metadata": {},
   "source": [
    "a) Propoonha uma função inTri(P) que retorna verdadeiro se todos os pontos de P estão contidos em um triângulo formado por 3 dos pontos de P."
   ]
  },
  {
   "cell_type": "markdown",
   "metadata": {},
   "source": [
    "Se todos os pontos de P estiverem contidos em algum triângulo cujos vértices pertencem a P, então a envoltória convexa de P deverá ser um polígono com no máximo 3 vértices. Portanto, usamos a função convexHull(P) e verificamos se o número de pontos do casco convexo é exatamente 3 (triângulo não degenerado)."
   ]
  },
  {
   "cell_type": "code",
   "execution_count": 2,
   "metadata": {},
   "outputs": [],
   "source": [
    "def convexHull_sc(P):\n",
    "    # Converte a lista de pontos para um array NumPy\n",
    "    pontos = np.array(P)\n",
    "    hull = ConvexHull(pontos)\n",
    "    # Obtém os índices dos vértices do casco convexo\n",
    "    hull_indices = hull.vertices\n",
    "    # Retorna os pontos correspondentes\n",
    "    return [tuple(pontos[i]) for i in hull_indices]"
   ]
  },
  {
   "cell_type": "code",
   "execution_count": 3,
   "metadata": {},
   "outputs": [],
   "source": [
    "def inTri(P):\n",
    "    hull = convexHull_sc(P)\n",
    "    return len(hull) == 3"
   ]
  },
  {
   "cell_type": "code",
   "execution_count": 4,
   "metadata": {},
   "outputs": [
    {
     "name": "stdout",
     "output_type": "stream",
     "text": [
      "Todos os pontos estão em um triângulo formado pelos vértices de P? True\n"
     ]
    }
   ],
   "source": [
    "# Exemplo de teste\n",
    "P = [(0, 0), (1, 0), (0, 1), (0.5, 0.4)]\n",
    "print(\"Todos os pontos estão em um triângulo formado pelos vértices de P?\", inTri(P))"
   ]
  },
  {
   "cell_type": "markdown",
   "metadata": {},
   "source": [
    "b) Qual a complexidade de inTri(P)?"
   ]
  },
  {
   "cell_type": "markdown",
   "metadata": {},
   "source": [
    "A complexidade de inTri(P) é dominada pelo cálculo do casco convexo (convexHull), que em geral possui complexidade O(n log n) para pontos em 2D. Portanto, a complexidade de inTri(P) é O(n log n)."
   ]
  },
  {
   "cell_type": "markdown",
   "metadata": {},
   "source": [
    "c) Proponha uma função inCirc(P, r) que retorna verdadeiro se todos os pontos de P estão contidos em um círculo de raio r centrado na média dos pontos de P."
   ]
  },
  {
   "cell_type": "code",
   "execution_count": 6,
   "metadata": {},
   "outputs": [],
   "source": [
    "def inCirc(P, r):\n",
    "    n = len(P)\n",
    "    if n == 0:\n",
    "        return True  # ou False, conforme o que for apropriado para seu caso\n",
    "    # Calcula o centro como a média dos pontos\n",
    "    center_x = sum(p[0] for p in P) / n\n",
    "    center_y = sum(p[1] for p in P) / n\n",
    "    # Verifica se cada ponto está dentro do círculo de raio r\n",
    "    for x, y in P:\n",
    "        if math.sqrt((x - center_x) ** 2 + (y - center_y) ** 2) > r:\n",
    "            return False\n",
    "    return True"
   ]
  },
  {
   "cell_type": "code",
   "execution_count": 8,
   "metadata": {},
   "outputs": [],
   "source": [
    "# Testando a função inCirc(P, r)\n",
    "\n",
    "\n",
    "def test_inCirc():\n",
    "    # Caso 1: Todos os pontos dentro do círculo\n",
    "    P1 = [(1, 1), (2, 2), (1, 2), (2, 1)]\n",
    "    # Calcula o centro (média dos pontos)\n",
    "    center_x = sum(p[0] for p in P1) / len(P1)\n",
    "    center_y = sum(p[1] for p in P1) / len(P1)\n",
    "    # Calcula a distância máxima de P1 ao centro\n",
    "    max_dist = max(\n",
    "        math.sqrt((x - center_x) ** 2 + (y - center_y) ** 2) for (x, y) in P1\n",
    "    )\n",
    "    r1 = max_dist + 0.1  # um pouco maior que a distância máxima\n",
    "    print(\"Caso 1 (dentro do círculo):\", inCirc(P1, r1))\n",
    "\n",
    "    # Caso 2: Pelo menos um ponto fora do círculo\n",
    "    P2 = [\n",
    "        (1, 1),\n",
    "        (2, 2),\n",
    "        (1, 2),\n",
    "        (10, 10),\n",
    "    ]  # (10, 10) provavelmente está fora do círculo\n",
    "    # Usa o mesmo centro da média dos pontos de P2\n",
    "    center_x = sum(p[0] for p in P2) / len(P2)\n",
    "    center_y = sum(p[1] for p in P2) / len(P2)\n",
    "    max_dist = max(\n",
    "        math.sqrt((x - center_x) ** 2 + (y - center_y) ** 2) for (x, y) in P2\n",
    "    )\n",
    "    r2 = max_dist - 1.0  # um pouco menor que a distância máxima\n",
    "    print(\"Caso 2 (fora do círculo):\", inCirc(P2, r2))"
   ]
  },
  {
   "cell_type": "code",
   "execution_count": 9,
   "metadata": {},
   "outputs": [
    {
     "name": "stdout",
     "output_type": "stream",
     "text": [
      "Caso 1 (dentro do círculo): True\n",
      "Caso 2 (fora do círculo): False\n"
     ]
    }
   ],
   "source": [
    "# Execução do teste\n",
    "test_inCirc()"
   ]
  },
  {
   "cell_type": "markdown",
   "metadata": {},
   "source": [
    "d) Qual a complexidade de inCirc(P, r)?"
   ]
  },
  {
   "cell_type": "markdown",
   "metadata": {},
   "source": [
    "A complexidade de inCirc(P, r) é O(n), onde n é o número de pontos em P, pois é necessário calcular a média dos pontos (O(n)) e depois verificar cada ponto contra o círculo (O(n))."
   ]
  }
 ],
 "metadata": {
  "kernelspec": {
   "display_name": "venv",
   "language": "python",
   "name": "python3"
  },
  "language_info": {
   "codemirror_mode": {
    "name": "ipython",
    "version": 3
   },
   "file_extension": ".py",
   "mimetype": "text/x-python",
   "name": "python",
   "nbconvert_exporter": "python",
   "pygments_lexer": "ipython3",
   "version": "3.12.3"
  }
 },
 "nbformat": 4,
 "nbformat_minor": 2
}
