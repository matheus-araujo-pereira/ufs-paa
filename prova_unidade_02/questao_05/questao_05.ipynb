{
 "cells": [
  {
   "cell_type": "markdown",
   "metadata": {},
   "source": [
    "# Questao 5\n",
    "\n",
    "O método de Horner para cálculo do vlaor de um polinômio p(x) = ak x^n + ak-1 x^N-1 + ... + a1 x + a0 em um dado ponto c é bastante eficiente, se A = [a0, a1, ..., ak], podemos avaliar p(c) como segue:\n",
    "\n",
    "Horner(A[0..N], c) p <- A[N] para i de (N-1) até 0: p <- c*p+A[i] retorne p\n",
    "\n",
    "No entanto, para o cálculo de c^N, ou seja, avaliar q(x) = x^N no ponto c, este método torna-se simplesmente (N-1) multiplicações de c (e várias somas com 0, desnecessárias), que é o que faríamos por força bruta.\n",
    "\n",
    "Um número natural N pode ser representado como bk 2^k + bk-1 2^k-1 + ... + b1 2 + b0, onde bi são os bits da re´resentação binária de N. Ou seja, N é o valor do polinômio r(x) = bk x^k + bk-1 x^k-1 + ... + b1 x + b0 avaliado no ponto 2. Portanto temos que c^N = c^r(2).\n",
    "\n",
    "Aplicando Horner em r(2) temos:\n",
    "\n",
    "p <- 1 (o bit mais significativo é sempre 1, se N > 0) para i de (K-1) até 0: p <- 2p + bi retorne p\n",
    "\n",
    "De modo que para c^r(2) temos:\n",
    "\n",
    "c^P <- c para i de (K-1) até 0: c^P <- c^2+bi retorne c^P\n",
    "\n",
    "Esta versão não vai funcionar do modo como está escrito, já que c^P deveria ser uma variável, para receber a atribuição, mas o valor do expoente é alterado na atribuição do laço."
   ]
  },
  {
   "cell_type": "markdown",
   "metadata": {},
   "source": [
    "a) Utilize as identidade da potenciação para reescrever c^2p+bi como operações sobre c^P, de modo que ele possa ser tratado como uma variável no pseudo-código acima."
   ]
  },
  {
   "cell_type": "markdown",
   "metadata": {},
   "source": [
    "Utilizando a identidade da potenciação, podemos reescrever:\n",
    "    c^(2p + bi) = (c^p)^2 * c^(bi)\n",
    "\n",
    "Ou seja:\n",
    "- Se bi == 0, então c^(2p + 0) = (c^p)^2\n",
    "- Se bi == 1, então c^(2p + 1) = (c^p)^2 * c\n",
    "\n",
    "Assim, no pseudo-código podemos atualizar a variável c^P como:\n",
    "\n",
    "c^P <- c\n",
    "para i de (K-1) até 0:\n",
    "   c^P <- (c^P)^2\n",
    "   se bi == 1:\n",
    "         c^P <- c^P * c\n",
    "retorne c^P"
   ]
  },
  {
   "cell_type": "markdown",
   "metadata": {},
   "source": [
    "b) Utilizando o resultado do item (a) e o pseudo-dogigo acima, escreva um algoritmo expBin(c, Bn) que calcula c^N, onde c é um número e Bn = [b0, b1, ..., bk] são os bits da representação binária de N."
   ]
  },
  {
   "cell_type": "markdown",
   "metadata": {},
   "source": [
    "Implementação da função expBin(c, Bn), que calcula c^N usando a representação binária de N, onde Bn = [b0, b1, ..., bk] e b_k (o bit mais significativo) é 1 (se N > 0).\n",
    "\n",
    "Conforme a transformação da identidade da potenciação:\n",
    "   c^(2p + bi) = (c^p)^2 * c^(bi)\n",
    "\n",
    "O algoritmo é:\n",
    "   c^P <- c\n",
    "   para i de (k-1) até 0:\n",
    "        c^P <- (c^P)^2\n",
    "        se Bn[i] == 1:\n",
    "             c^P <- c^P * c\n",
    "   retorne c^P"
   ]
  },
  {
   "cell_type": "code",
   "execution_count": 1,
   "metadata": {},
   "outputs": [],
   "source": [
    "def expBin(c, Bn):\n",
    "    \"\"\"\n",
    "    Calcula c^N, onde N é representado pelos bits da lista Bn = [b0, b1, ..., bk]\n",
    "    (b_k é o bit mais significativo, que deve ser 1 se N > 0).\n",
    "\n",
    "    Exemplo:\n",
    "        Para N = 13, sua representação binária é 1101. Podemos definir\n",
    "        Bn = [1, 0, 1, 1] tal que o último elemento é o bit mais significativo.\n",
    "        expBin(c, [1, 0, 1, 1]) calculará c^13.\n",
    "    \"\"\"\n",
    "    # Inicia com o bit mais significativo (último elemento de Bn)\n",
    "    cP = c\n",
    "    # Itera do penúltimo bit até o primeiro (em ordem decrescente de índice)\n",
    "    for i in range(len(Bn) - 2, -1, -1):\n",
    "        cP = cP * cP  # Eleva ao quadrado\n",
    "        if Bn[i] == 1:\n",
    "            cP = cP * c\n",
    "    return cP"
   ]
  },
  {
   "cell_type": "code",
   "execution_count": 2,
   "metadata": {},
   "outputs": [
    {
     "name": "stdout",
     "output_type": "stream",
     "text": [
      "2^13 = 8192\n"
     ]
    }
   ],
   "source": [
    "# Exemplo de teste:\n",
    "# Calcular c^N para c = 2, N = 13.\n",
    "# Representação binária de 13: 1101 (em Bn, representamos como [1, 0, 1, 1], onde Bn[-1]=1 é o bit mais significativo)\n",
    "c = 2\n",
    "Bn = [1, 0, 1, 1]  # corresponde a 1*2^0 + 0*2^1 + 1*2^2 + 1*2^3 = 1 + 0 + 4 + 8 = 13\n",
    "print(\"2^13 =\", expBin(c, Bn))"
   ]
  },
  {
   "cell_type": "markdown",
   "metadata": {},
   "source": [
    "c) Qual a complexidade de tempo de expBi(c, Bn) em função de N?"
   ]
  },
  {
   "cell_type": "markdown",
   "metadata": {},
   "source": [
    "A complexidade de expBin(c, Bn) é O(k), onde k é o número de bits em N.\n",
    "Como k é aproximadamente log₂(N), a complexidade em função de N é O(log N)."
   ]
  }
 ],
 "metadata": {
  "kernelspec": {
   "display_name": "venv",
   "language": "python",
   "name": "python3"
  },
  "language_info": {
   "codemirror_mode": {
    "name": "ipython",
    "version": 3
   },
   "file_extension": ".py",
   "mimetype": "text/x-python",
   "name": "python",
   "nbconvert_exporter": "python",
   "pygments_lexer": "ipython3",
   "version": "3.12.3"
  }
 },
 "nbformat": 4,
 "nbformat_minor": 2
}
