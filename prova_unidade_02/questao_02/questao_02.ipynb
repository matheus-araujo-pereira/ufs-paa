{
 "cells": [
  {
   "cell_type": "code",
   "execution_count": 8,
   "metadata": {},
   "outputs": [],
   "source": [
    "import time\n",
    "import math"
   ]
  },
  {
   "cell_type": "markdown",
   "metadata": {},
   "source": [
    "# Questão 2\n",
    "\n",
    "A estratégia de polinômios descrita na Questão 1 pode ser estendida para o ajuste de qualquer combinação linear de funções. Se você deseja ajustar a curva p1f1(x) + p2f2(x) + ... + pkfk(x) = y aos pontos, basta montar uma matriz A onde a coluna i contém os valores de fi(x) para cada ponto X dos dados e repetir o procedimento anterior para obter os valores dos parâmteros pi no vetor P.\n",
    "\n",
    "A função p1exp(p2x) = y não é linear, pois o parâmetro p2 está dentro da função exponencial e não é um simples multiplicador."
   ]
  },
  {
   "cell_type": "markdown",
   "metadata": {},
   "source": [
    "a) Tranforme este problema em um problema linear."
   ]
  },
  {
   "cell_type": "markdown",
   "metadata": {},
   "source": [
    "Aplicamos o logaritmo natural em ambos os lados:\n",
    "   log(y) = log(p1) + p2 * x\n",
    "\n",
    "Definindo:\n",
    "   a = log(p1)\n",
    "\n",
    "O modelo se torna:\n",
    "    log(y) = a + p2 * x\n",
    "\n",
    "Este é um modelo linear em relação aos parâmetros a e p2, que pode ser ajustado utilizando técnicas de regressão linear. Após encontrar os valores de a e p2, recuperamos o parâmetro original p1 com:\n",
    "   p1 = exp(a)\n",
    "\n",
    "Assim, transformamos o problema original em um problema linear."
   ]
  },
  {
   "cell_type": "markdown",
   "metadata": {},
   "source": [
    "b) Escreva uma função ajustaExp(X, Y) que utiliza a função ajusta, da Questão 1, e transofmra a saída P para obter p1 e p2 de p1exp(p2x) = y."
   ]
  },
  {
   "cell_type": "markdown",
   "metadata": {},
   "source": [
    "Função ajusta da questão 1:"
   ]
  },
  {
   "cell_type": "code",
   "execution_count": 21,
   "metadata": {},
   "outputs": [],
   "source": [
    "def ler_pontos(nome_arquivo):\n",
    "    with open(nome_arquivo, \"r\") as f:\n",
    "        n = int(f.readline().strip())\n",
    "        X, Y = [], []\n",
    "        for _ in range(n):\n",
    "            linha = f.readline().strip().split(\",\")\n",
    "            X.append(float(linha[0]))\n",
    "            Y.append(float(linha[1]))\n",
    "    return X, Y"
   ]
  },
  {
   "cell_type": "code",
   "execution_count": 22,
   "metadata": {},
   "outputs": [],
   "source": [
    "def poly(X, k):\n",
    "    A = []\n",
    "    for x in X:\n",
    "        linha = []\n",
    "        for exp in range(k, -1, -1):\n",
    "            linha.append(x**exp)\n",
    "        A.append(linha)\n",
    "    return A"
   ]
  },
  {
   "cell_type": "code",
   "execution_count": 23,
   "metadata": {},
   "outputs": [],
   "source": [
    "def inv(M):\n",
    "    n = len(M)\n",
    "    # Cria uma matriz identidade\n",
    "    identidade = [[float(i == j) for j in range(n)] for i in range(n)]\n",
    "    # Faz uma cópia de M para não alterar a matriz original\n",
    "    mat = [linha[:] for linha in M]\n",
    "\n",
    "    for i in range(n):\n",
    "        # Pivô\n",
    "        piv = mat[i][i]\n",
    "        if abs(piv) < 1e-12:  # Evita divisões por zero\n",
    "            # Tenta encontrar linha para trocar\n",
    "            for r in range(i + 1, n):\n",
    "                if abs(mat[r][i]) > abs(piv):\n",
    "                    mat[i], mat[r] = mat[r], mat[i]\n",
    "                    identidade[i], identidade[r] = identidade[r], identidade[i]\n",
    "                    piv = mat[i][i]\n",
    "                    break\n",
    "        # Normaliza linha i\n",
    "        for c in range(n):\n",
    "            mat[i][c] /= piv\n",
    "            identidade[i][c] /= piv\n",
    "\n",
    "        # Elimina demais linhas\n",
    "        for r in range(n):\n",
    "            if r != i:\n",
    "                fator = mat[r][i]\n",
    "                for c in range(n):\n",
    "                    mat[r][c] -= fator * mat[i][c]\n",
    "                    identidade[r][c] -= fator * identidade[i][c]\n",
    "\n",
    "    return identidade"
   ]
  },
  {
   "cell_type": "code",
   "execution_count": 24,
   "metadata": {},
   "outputs": [],
   "source": [
    "def transposta(M):\n",
    "    return [list(linha) for linha in zip(*M)]"
   ]
  },
  {
   "cell_type": "code",
   "execution_count": 25,
   "metadata": {},
   "outputs": [],
   "source": [
    "def matmul(A, B):\n",
    "    linhasA, colunasA = len(A), len(A[0])\n",
    "    linhasB, colunasB = len(B), len(B[0])\n",
    "    # Multiplicação possível apenas se colunasA == linhasB\n",
    "    C = [[0] * colunasB for _ in range(linhasA)]\n",
    "    for i in range(linhasA):\n",
    "        for j in range(colunasB):\n",
    "            soma = 0\n",
    "            for k2 in range(colunasA):\n",
    "                soma += A[i][k2] * B[k2][j]\n",
    "            C[i][j] = soma\n",
    "    return C"
   ]
  },
  {
   "cell_type": "code",
   "execution_count": 26,
   "metadata": {},
   "outputs": [],
   "source": [
    "def ajusta(X, Y, k):\n",
    "    inicio = time.time()\n",
    "\n",
    "    A = poly(X, k)\n",
    "    At = transposta(A)\n",
    "    # A^T A\n",
    "    M = matmul(At, A)\n",
    "    # Inversão\n",
    "    Minv = inv(M)\n",
    "    # Converte Y para matriz coluna\n",
    "    Ycol = [[y] for y in Y]\n",
    "    # P = inv(A^T A) * A^T * Y\n",
    "    Pmat = matmul(Minv, matmul(At, Ycol))\n",
    "    # Transformar a matriz coluna em lista\n",
    "    P = [row[0] for row in Pmat]\n",
    "\n",
    "    # Cálculo do SSE\n",
    "    SSE = 0\n",
    "    for i in range(len(X)):\n",
    "        # Predição para o ponto i\n",
    "        pred = 0\n",
    "        for j in range(k + 1):\n",
    "            pred += A[i][j] * P[j]\n",
    "        SSE += (pred - Y[i]) ** 2\n",
    "\n",
    "    tempo_calc = time.time() - inicio\n",
    "    return P, tempo_calc, SSE"
   ]
  },
  {
   "cell_type": "markdown",
   "metadata": {},
   "source": [
    "Implementação da função ajustaExp(X, Y) para ajustar o modelo\n",
    "    \n",
    "    p1*exp(p2*x) = y, utilizando a função ajusta da Questão 1.\n",
    "\n",
    "Transformamos o problema aplicando o logaritmo natural:\n",
    "\n",
    "    log(y) = log(p1) + p2 * x, ou seja, usando a regressão linear para:\n",
    "    log(y) = a + p2 * x, onde a = log(p1).\n",
    "\n",
    "Após ajustar, obtemos p1 = exp(a)."
   ]
  },
  {
   "cell_type": "code",
   "execution_count": 27,
   "metadata": {},
   "outputs": [],
   "source": [
    "def ajustaExp(X, Y):\n",
    "    # Verifica se todos os valores de Y são positivos\n",
    "    if any(y <= 0 for y in Y):\n",
    "        raise ValueError(\n",
    "            \"Todos os valores de Y devem ser positivos para aplicar logaritmo.\"\n",
    "        )\n",
    "\n",
    "    # Aplica o logaritmo natural em Y\n",
    "    logY = [math.log(y) for y in Y]\n",
    "    # Ajusta um polinômio de grau 1: poly(X,1) gera matriz com [x, 1]\n",
    "    # Assim, o modelo ajustado será: P[0]*x + P[1] ≈ log(y)\n",
    "    P, tempo_calc, SSE = ajusta(X, logY, 1)\n",
    "    # Recupera os parâmetros do modelo original:\n",
    "    p2 = P[0]  # Coeficiente associado a x\n",
    "    a = P[1]  # intercepto, sendo log(p1)\n",
    "    p1 = math.exp(a)  # Recupera p1\n",
    "    return (p1, p2, tempo_calc, SSE)"
   ]
  },
  {
   "cell_type": "code",
   "execution_count": 28,
   "metadata": {},
   "outputs": [],
   "source": [
    "# Gerar dados de teste\n",
    "def gerar_dados(p1, p2, xs):\n",
    "    return [p1 * math.exp(p2 * x) for x in xs]"
   ]
  },
  {
   "cell_type": "code",
   "execution_count": 29,
   "metadata": {},
   "outputs": [],
   "source": [
    "# Definir valores de X e calcular Y usando o modelo verdadeiro\n",
    "X_teste = [0, 1, 2, 3, 4, 5]\n",
    "p1_verdadeiro = 2\n",
    "p2_verdadeiro = 0.3\n",
    "Y_teste = gerar_dados(p1_verdadeiro, p2_verdadeiro, X_teste)"
   ]
  },
  {
   "cell_type": "code",
   "execution_count": 30,
   "metadata": {},
   "outputs": [],
   "source": [
    "# Chamar a função ajustaExp para obter os parâmetros ajustados\n",
    "p1_ajustado, p2_ajustado, tempo_calc, SSE = ajustaExp(X_teste, Y_teste)"
   ]
  },
  {
   "cell_type": "code",
   "execution_count": 31,
   "metadata": {},
   "outputs": [
    {
     "name": "stdout",
     "output_type": "stream",
     "text": [
      "Parâmetros ajustados:\n",
      "p1 = 1.9999999999999993\n",
      "p2 = 0.2999999999999998\n",
      "Tempo de cálculo: 5.650520324707031e-05\n",
      "SSE: 4.215475462274782e-30\n"
     ]
    }
   ],
   "source": [
    "print(\"Parâmetros ajustados:\")\n",
    "print(\"p1 =\", p1_ajustado)\n",
    "print(\"p2 =\", p2_ajustado)\n",
    "print(\"Tempo de cálculo:\", tempo_calc)\n",
    "print(\"SSE:\", SSE)"
   ]
  },
  {
   "cell_type": "code",
   "execution_count": 32,
   "metadata": {},
   "outputs": [
    {
     "name": "stdout",
     "output_type": "stream",
     "text": [
      "\n",
      "Valores reais vs ajustados:\n",
      "x=0, y_real=2.0000, y_ajustado=2.0000\n",
      "x=1, y_real=2.6997, y_ajustado=2.6997\n",
      "x=2, y_real=3.6442, y_ajustado=3.6442\n",
      "x=3, y_real=4.9192, y_ajustado=4.9192\n",
      "x=4, y_real=6.6402, y_ajustado=6.6402\n",
      "x=5, y_real=8.9634, y_ajustado=8.9634\n"
     ]
    }
   ],
   "source": [
    "# Opcional: calcular os valores ajustados para comparação\n",
    "Y_ajustados = [p1_ajustado * math.exp(p2_ajustado * x) for x in X_teste]\n",
    "print(\"\\nValores reais vs ajustados:\")\n",
    "for x, y_real, y_aj in zip(X_teste, Y_teste, Y_ajustados):\n",
    "    print(f\"x={x}, y_real={y_real:.4f}, y_ajustado={y_aj:.4f}\")"
   ]
  }
 ],
 "metadata": {
  "kernelspec": {
   "display_name": "venv",
   "language": "python",
   "name": "python3"
  },
  "language_info": {
   "codemirror_mode": {
    "name": "ipython",
    "version": 3
   },
   "file_extension": ".py",
   "mimetype": "text/x-python",
   "name": "python",
   "nbconvert_exporter": "python",
   "pygments_lexer": "ipython3",
   "version": "3.12.3"
  }
 },
 "nbformat": 4,
 "nbformat_minor": 2
}
