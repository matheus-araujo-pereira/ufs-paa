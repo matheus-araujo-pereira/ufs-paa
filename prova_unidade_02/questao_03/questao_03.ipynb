{
 "cells": [
  {
   "cell_type": "markdown",
   "metadata": {},
   "source": [
    "# Questão 3\n",
    "\n",
    "Considere que temos uma lista de valores reais x1, ..., xn. O valor x (não necessariamente pertencente à lista) que minimiza a soma de | x - xi | para i de 1 a N é a mediana dos xi (no caso de N par, a mediana é a média dos valores centrais).\n",
    "\n",
    "Considere agora que temos uma lista de pontos no plano cartesiano p1 = (x1, y1), ..., pn = (xn, yn). Queremos achar um ponto p = (x, y) (não necessariamente da lista) que minimiza a soma da distancia Manhattan entre cada pi e p. Essa distância é dada por d(p, pi) = | x -xi | + | y - yi |."
   ]
  },
  {
   "cell_type": "markdown",
   "metadata": {},
   "source": [
    "a) Crie um função pol(P) que retorna o ponto p que resolve o problema do segundo parágrado, onde P = [p1, p2, ..., pn]."
   ]
  },
  {
   "cell_type": "markdown",
   "metadata": {},
   "source": [
    "Considere a lista de pontos P = [p1, p2, ..., pn], onde cada pi = (xi, yi).\n",
    "\n",
    "O ponto p = (x, y) que minimiza a soma das distâncias Manhattan d(p, pi) = |x - xi| + |y - yi| é dado pela mediana dos xi e pela mediana dos yi.\n",
    "\n",
    "Caso o número de pontos seja par, a mediana é a média dos valores centrais.\n"
   ]
  },
  {
   "cell_type": "code",
   "execution_count": 1,
   "metadata": {},
   "outputs": [],
   "source": [
    "def mediana(valores):\n",
    "    valores_ord = sorted(valores)\n",
    "    n = len(valores_ord)\n",
    "    if n % 2 == 1:\n",
    "        return valores_ord[n // 2]\n",
    "    else:\n",
    "        return (valores_ord[n // 2 - 1] + valores_ord[n // 2]) / 2"
   ]
  },
  {
   "cell_type": "code",
   "execution_count": 2,
   "metadata": {},
   "outputs": [],
   "source": [
    "def pol(P):\n",
    "    xs = [p[0] for p in P]\n",
    "    ys = [p[1] for p in P]\n",
    "    return (mediana(xs), mediana(ys))"
   ]
  },
  {
   "cell_type": "code",
   "execution_count": 3,
   "metadata": {},
   "outputs": [],
   "source": [
    "# Testando a implementação da função pol(P)\n",
    "\n",
    "\n",
    "def test_pol():\n",
    "    # Teste com número ímpar de pontos\n",
    "    pontos_impar = [(1, 2), (3, 4), (5, 6)]\n",
    "    resultado_impar = pol(pontos_impar)\n",
    "    print(\"Teste (ímpares):\")\n",
    "    print(\"Pontos:\", pontos_impar)\n",
    "    print(\"Ponto que minimiza a soma Manhattan =\", resultado_impar)\n",
    "\n",
    "    # Teste com número par de pontos\n",
    "    pontos_par = [(1, 2), (3, 4), (7, 8), (9, 10)]\n",
    "    resultado_par = pol(pontos_par)\n",
    "    print(\"\\nTeste (pares):\")\n",
    "    print(\"Pontos:\", pontos_par)\n",
    "    print(\"Ponto que minimiza a soma Manhattan =\", resultado_par)"
   ]
  },
  {
   "cell_type": "code",
   "execution_count": 4,
   "metadata": {},
   "outputs": [
    {
     "name": "stdout",
     "output_type": "stream",
     "text": [
      "Teste (ímpares):\n",
      "Pontos: [(1, 2), (3, 4), (5, 6)]\n",
      "Ponto que minimiza a soma Manhattan = (3, 4)\n",
      "\n",
      "Teste (pares):\n",
      "Pontos: [(1, 2), (3, 4), (7, 8), (9, 10)]\n",
      "Ponto que minimiza a soma Manhattan = (5.0, 6.0)\n"
     ]
    }
   ],
   "source": [
    "# Execução do teste\n",
    "test_pol()"
   ]
  },
  {
   "cell_type": "markdown",
   "metadata": {},
   "source": [
    "b) Qual a complexidad de tempo da sua solução?"
   ]
  },
  {
   "cell_type": "markdown",
   "metadata": {},
   "source": [
    "A complexidade de tempo da função pol(P) é O(n log n), pois para cada dimensão (x e y) é preciso ordenar a lista de valores, o que tem complexidade O(n log n). Como são duas ordenações, a complexidade total permanece O(n log n)."
   ]
  }
 ],
 "metadata": {
  "kernelspec": {
   "display_name": "venv",
   "language": "python",
   "name": "python3"
  },
  "language_info": {
   "codemirror_mode": {
    "name": "ipython",
    "version": 3
   },
   "file_extension": ".py",
   "mimetype": "text/x-python",
   "name": "python",
   "nbconvert_exporter": "python",
   "pygments_lexer": "ipython3",
   "version": "3.12.3"
  }
 },
 "nbformat": 4,
 "nbformat_minor": 2
}
