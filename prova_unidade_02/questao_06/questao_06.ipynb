{
 "cells": [
  {
   "cell_type": "markdown",
   "metadata": {},
   "source": [
    "# Questão 6\n",
    "\n",
    "A é um array contendo N strings de comprimentos variados, formadas exclusivamente por letras minúsculas e sem acentos."
   ]
  },
  {
   "cell_type": "markdown",
   "metadata": {},
   "source": [
    "a) Qual método de ordenação você utilizaria para ordenar A eficientemente? Qual a complexiadade temporal do método escolhido para este problema?"
   ]
  },
  {
   "cell_type": "markdown",
   "metadata": {},
   "source": [
    "Para ordenar N strings formadas apenas por letras minúsculas, uma boa escolha é utilizar o Radix Sort (MSD ou LSD). \n",
    "\n",
    "Esse algoritmo aproveita o fato de o alfabeto ser fixo (26 letras) e ordena as strings caractere a caractere.\n",
    "\n",
    "Se L for o comprimento máximo (ou médio) das strings, a complexidade temporal do Radix Sort é O(N * L), o que pode ser muito eficiente quando L é pequeno."
   ]
  },
  {
   "cell_type": "markdown",
   "metadata": {},
   "source": [
    "b) Duas (ou mais) string são anagramas se uma é uma permutação dos símbolos da(s) outra(s). Crie uma função angroup(A) que retorna os anagramas contidos em A agrupados."
   ]
  },
  {
   "cell_type": "markdown",
   "metadata": {},
   "source": [
    "A função angroup(A) retorna os anagramas contidos em A agrupados.\n",
    "Uma estratégia é ordenar os caracteres de cada string e usar o resultado como chave em um dicionário."
   ]
  },
  {
   "cell_type": "code",
   "execution_count": 1,
   "metadata": {},
   "outputs": [],
   "source": [
    "def angroup(A):\n",
    "    grupos = {}\n",
    "    for s in A:\n",
    "        chave = ''.join(sorted(s))\n",
    "        if chave in grupos:\n",
    "            grupos[chave].append(s)\n",
    "        else:\n",
    "            grupos[chave] = [s]\n",
    "    # Opcional: ordenar cada grupo alfabeticamente para resultados consistentes\n",
    "    for chave in grupos:\n",
    "        grupos[chave].sort()\n",
    "    return list(grupos.values())"
   ]
  },
  {
   "cell_type": "code",
   "execution_count": 2,
   "metadata": {},
   "outputs": [
    {
     "name": "stdout",
     "output_type": "stream",
     "text": [
      "[['arcor', 'carro'], ['amigo'], ['amor', 'mora', 'roma'], ['taco', 'toca']]\n"
     ]
    }
   ],
   "source": [
    "# Exemplo de teste\n",
    "A = [\"carro\", \"arcor\", \"amigo\", \"roma\", \"amor\", \"mora\", \"taco\", \"toca\"]\n",
    "print(angroup(A))"
   ]
  },
  {
   "cell_type": "markdown",
   "metadata": {},
   "source": [
    "c) Qual a complexidade de anagroup(A)?\n",
    "\n",
    "Entrada: A = [cao, jaca, oca, cora, arar, ora, rara, caja, aco, aro] Retorno: [[aco, cao, oca], [aro, ora], [arar, rara], [caja, jaca], [cora]]"
   ]
  },
  {
   "cell_type": "markdown",
   "metadata": {},
   "source": [
    "A complexidade de angroup(A) é O(N * L log L), onde:\n",
    "- N é o número de strings em A;\n",
    "- L é o comprimento médio (ou máximo) de uma string.\n",
    "\n",
    "Isso porque, para cada string, é necessária a ordenação dos seus caracteres, que custa O(L log L) em média, e isso é feito para todas as N strings."
   ]
  },
  {
   "cell_type": "code",
   "execution_count": 3,
   "metadata": {},
   "outputs": [
    {
     "name": "stdout",
     "output_type": "stream",
     "text": [
      "Grupos de anagramas: [['aco', 'cao', 'oca'], ['caja', 'jaca'], ['cora'], ['arar', 'rara'], ['aro', 'ora']]\n"
     ]
    }
   ],
   "source": [
    "# Exemplo de execução:\n",
    "A = [\"cao\", \"jaca\", \"oca\", \"cora\", \"arar\", \"ora\", \"rara\", \"caja\", \"aco\", \"aro\"]\n",
    "resultado = angroup(A)\n",
    "print(\"Grupos de anagramas:\", resultado)"
   ]
  },
  {
   "cell_type": "code",
   "execution_count": 4,
   "metadata": {},
   "outputs": [
    {
     "name": "stdout",
     "output_type": "stream",
     "text": [
      "Exemplo 1 - Entrada: ['cao', 'jaca', 'oca', 'cora', 'arar', 'ora', 'rara', 'caja', 'aco', 'aro']\n",
      "Exemplo 1 - Grupos de anagramas: [['aco', 'cao', 'oca'], ['caja', 'jaca'], ['cora'], ['arar', 'rara'], ['aro', 'ora']]\n",
      "\n",
      "Exemplo 2 - Entrada: ['listen', 'silent', 'enlist', 'google', 'glegoo', 'inlets', 'banana']\n",
      "Exemplo 2 - Grupos de anagramas: [['enlist', 'inlets', 'listen', 'silent'], ['glegoo', 'google'], ['banana']]\n",
      "\n",
      "Exemplo 3 - Entrada: ['abc', 'cab', 'bac', 'xyz', 'zxy', 'yxz', 'foo', 'ofo', 'oof', 'bar']\n",
      "Exemplo 3 - Grupos de anagramas: [['abc', 'bac', 'cab'], ['xyz', 'yxz', 'zxy'], ['foo', 'ofo', 'oof'], ['bar']]\n",
      "\n",
      "Exemplo 4 - Entrada: ['rat', 'tar', 'art', 'star', 'tars', 'cheese', 'seeche']\n",
      "Exemplo 4 - Grupos de anagramas: [['art', 'rat', 'tar'], ['star', 'tars'], ['cheese', 'seeche']]\n"
     ]
    }
   ],
   "source": [
    "# Exemplo 1\n",
    "A1 = [\"cao\", \"jaca\", \"oca\", \"cora\", \"arar\", \"ora\", \"rara\", \"caja\", \"aco\", \"aro\"]\n",
    "resultado1 = angroup(A1)\n",
    "print(\"Exemplo 1 - Entrada:\", A1)\n",
    "print(\"Exemplo 1 - Grupos de anagramas:\", resultado1)\n",
    "print()\n",
    "\n",
    "# Exemplo 2\n",
    "A2 = [\"listen\", \"silent\", \"enlist\", \"google\", \"glegoo\", \"inlets\", \"banana\"]\n",
    "resultado2 = angroup(A2)\n",
    "print(\"Exemplo 2 - Entrada:\", A2)\n",
    "print(\"Exemplo 2 - Grupos de anagramas:\", resultado2)\n",
    "print()\n",
    "\n",
    "# Exemplo 3\n",
    "A3 = [\"abc\", \"cab\", \"bac\", \"xyz\", \"zxy\", \"yxz\", \"foo\", \"ofo\", \"oof\", \"bar\"]\n",
    "resultado3 = angroup(A3)\n",
    "print(\"Exemplo 3 - Entrada:\", A3)\n",
    "print(\"Exemplo 3 - Grupos de anagramas:\", resultado3)\n",
    "print()\n",
    "\n",
    "# Exemplo 4\n",
    "A4 = [\"rat\", \"tar\", \"art\", \"star\", \"tars\", \"cheese\", \"seeche\"]\n",
    "resultado4 = angroup(A4)\n",
    "print(\"Exemplo 4 - Entrada:\", A4)\n",
    "print(\"Exemplo 4 - Grupos de anagramas:\", resultado4)"
   ]
  }
 ],
 "metadata": {
  "kernelspec": {
   "display_name": "venv",
   "language": "python",
   "name": "python3"
  },
  "language_info": {
   "codemirror_mode": {
    "name": "ipython",
    "version": 3
   },
   "file_extension": ".py",
   "mimetype": "text/x-python",
   "name": "python",
   "nbconvert_exporter": "python",
   "pygments_lexer": "ipython3",
   "version": "3.12.3"
  }
 },
 "nbformat": 4,
 "nbformat_minor": 2
}
