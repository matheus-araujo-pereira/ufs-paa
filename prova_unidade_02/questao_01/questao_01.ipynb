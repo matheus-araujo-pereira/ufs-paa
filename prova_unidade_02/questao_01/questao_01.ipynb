{
 "cells": [
  {
   "cell_type": "code",
   "execution_count": 1,
   "metadata": {},
   "outputs": [],
   "source": [
    "import time"
   ]
  },
  {
   "cell_type": "markdown",
   "metadata": {},
   "source": [
    "# Questão 1\n",
    "\n",
    "Dado um conjunto de pontos bi-dimensionais, apresentados em um arquivo de texto no seguinte formato: a linha 1 contém o total de N de pontos, as linhas a N + 1 contêm as coordenadas separadas por vírgulas de cada ponto. O separador da parte fracionária será o ponto.\n",
    "\n",
    "Exemplo: O conjunto de pontos {(1, 2), (0.5, 3), (2, 0.7), (3,5)} seria apresentado no arquivo como:\n",
    "\n",
    "4    \n",
    "1, 2    \n",
    "0.5,    \n",
    "3 2,    \n",
    "0.7    \n",
    "3, 5"
   ]
  },
  {
   "cell_type": "markdown",
   "metadata": {},
   "source": [
    "a) Implemente uma função para ler o conjunto de pontos e armazenar em 2 vetores, um vetor X com as primeiras coordenadas e um vetor Y com as segundas coordenadas."
   ]
  },
  {
   "cell_type": "code",
   "execution_count": 2,
   "metadata": {},
   "outputs": [],
   "source": [
    "def ler_pontos(nome_arquivo):\n",
    "    with open(nome_arquivo, \"r\") as f:\n",
    "        n = int(f.readline().strip())\n",
    "        X, Y = [], []\n",
    "        for _ in range(n):\n",
    "            linha = f.readline().strip().split(\",\")\n",
    "            X.append(float(linha[0]))\n",
    "            Y.append(float(linha[1]))\n",
    "    return X, Y"
   ]
  },
  {
   "cell_type": "markdown",
   "metadata": {},
   "source": [
    "b) Implemente uma função poly(X, k) que retorna uma matriz Ak com (k + 1) colunos de modo que os valores da coluna i são os valores de X elevados a (k + 1 -i).\n",
    "\n",
    "Para os dados anteriores teríamos:\n",
    "\n",
    "A1 = | 1 1 | | 0.5 1| | 2 1 | | 3 1 |\n",
    "\n",
    "A2 = | 1 1 1 | | 0.25 0.5 1 | | 4 2 1 | | 9 3 1|\n",
    "\n",
    "A3 = | 1 1 1 1| | 0.125 0.25 0.5 1 | | 16 4 2 1 | | 27 9 3 1 |"
   ]
  },
  {
   "cell_type": "code",
   "execution_count": 3,
   "metadata": {},
   "outputs": [],
   "source": [
    "def poly(X, k):\n",
    "    A = []\n",
    "    for x in X:\n",
    "        linha = []\n",
    "        for exp in range(k, -1, -1):\n",
    "            linha.append(x**exp)\n",
    "        A.append(linha)\n",
    "    return A"
   ]
  },
  {
   "cell_type": "markdown",
   "metadata": {},
   "source": [
    "c) Implemente uma função inv(M) para inverter uma matriz qudrada M."
   ]
  },
  {
   "cell_type": "code",
   "execution_count": 4,
   "metadata": {},
   "outputs": [],
   "source": [
    "def inv(M):\n",
    "    n = len(M)\n",
    "    # Cria uma matriz identidade\n",
    "    identidade = [[float(i == j) for j in range(n)] for i in range(n)]\n",
    "    # Faz uma cópia de M para não alterar a matriz original\n",
    "    mat = [linha[:] for linha in M]\n",
    "\n",
    "    for i in range(n):\n",
    "        # Pivô\n",
    "        piv = mat[i][i]\n",
    "        if abs(piv) < 1e-12:  # Evita divisões por zero\n",
    "            # Tenta encontrar linha para trocar\n",
    "            for r in range(i + 1, n):\n",
    "                if abs(mat[r][i]) > abs(piv):\n",
    "                    mat[i], mat[r] = mat[r], mat[i]\n",
    "                    identidade[i], identidade[r] = identidade[r], identidade[i]\n",
    "                    piv = mat[i][i]\n",
    "                    break\n",
    "        # Normaliza linha i\n",
    "        for c in range(n):\n",
    "            mat[i][c] /= piv\n",
    "            identidade[i][c] /= piv\n",
    "\n",
    "        # Elimina demais linhas\n",
    "        for r in range(n):\n",
    "            if r != i:\n",
    "                fator = mat[r][i]\n",
    "                for c in range(n):\n",
    "                    mat[r][c] -= fator * mat[i][c]\n",
    "                    identidade[r][c] -= fator * identidade[i][c]\n",
    "\n",
    "    return identidade"
   ]
  },
  {
   "cell_type": "markdown",
   "metadata": {},
   "source": [
    "d) Implente uma função ajusta(X, Y, k) que retorne P = inv(A^T A) A^T Y onde A é dado por poly(X, k).\n",
    "\n",
    "Você pode usar funções prontas para o produto e transposição se quiser.\n",
    "\n",
    "Os valores de P são os coeficientes do polinômio de grau k que melhor se ajustam ao conjunto de pontos segundo o critério de minimização da soma dos quadrados dos erros (SSE), onde os erros são dados por E = AP - Y.\n",
    "\n",
    "Incluir no retorno de sua função:\n",
    "\n",
    "* Tempo do cálculo de P\n",
    "* SSE"
   ]
  },
  {
   "cell_type": "code",
   "execution_count": 5,
   "metadata": {},
   "outputs": [],
   "source": [
    "def transposta(M):\n",
    "    return [list(linha) for linha in zip(*M)]"
   ]
  },
  {
   "cell_type": "code",
   "execution_count": 6,
   "metadata": {},
   "outputs": [],
   "source": [
    "def matmul(A, B):\n",
    "    linhasA, colunasA = len(A), len(A[0])\n",
    "    linhasB, colunasB = len(B), len(B[0])\n",
    "    # Multiplicação possível apenas se colunasA == linhasB\n",
    "    C = [[0] * colunasB for _ in range(linhasA)]\n",
    "    for i in range(linhasA):\n",
    "        for j in range(colunasB):\n",
    "            soma = 0\n",
    "            for k2 in range(colunasA):\n",
    "                soma += A[i][k2] * B[k2][j]\n",
    "            C[i][j] = soma\n",
    "    return C"
   ]
  },
  {
   "cell_type": "code",
   "execution_count": 7,
   "metadata": {},
   "outputs": [],
   "source": [
    "def ajusta(X, Y, k):\n",
    "    inicio = time.time()\n",
    "\n",
    "    A = poly(X, k)\n",
    "    At = transposta(A)\n",
    "    # A^T A\n",
    "    M = matmul(At, A)\n",
    "    # Inversão\n",
    "    Minv = inv(M)\n",
    "    # Converte Y para matriz coluna\n",
    "    Ycol = [[y] for y in Y]\n",
    "    # P = inv(A^T A) * A^T * Y\n",
    "    Pmat = matmul(Minv, matmul(At, Ycol))\n",
    "    # Transformar a matriz coluna em lista\n",
    "    P = [row[0] for row in Pmat]\n",
    "\n",
    "    # Cálculo do SSE\n",
    "    SSE = 0\n",
    "    for i in range(len(X)):\n",
    "        # Predição para o ponto i\n",
    "        pred = 0\n",
    "        for j in range(k + 1):\n",
    "            pred += A[i][j] * P[j]\n",
    "        SSE += (pred - Y[i]) ** 2\n",
    "\n",
    "    tempo_calc = time.time() - inicio\n",
    "    return P, tempo_calc, SSE"
   ]
  },
  {
   "cell_type": "markdown",
   "metadata": {},
   "source": [
    "e) Você receberá 3 arquvios de dados (enviados posteriormente), calcule o que se pede para cada arquivos e preencha a tabela abaixo:\n",
    "\n",
    "| | k | Tempo de Execução (cálculo de P) | SSE | | | 1 | | | | Arquivo 1 | 2 | | | | | 10 | | | | | 1 | | | | Arquivo 2 | 2 | | | | | 10 | | | | | 1 | | | | Arquivo 3 | 2 | | | | | 10 | | |"
   ]
  },
  {
   "cell_type": "code",
   "execution_count": 8,
   "metadata": {},
   "outputs": [],
   "source": [
    "def calcula_ajustes(arquivos):\n",
    "    ks = [1, 2, 10]\n",
    "    resultados = []\n",
    "    for idx, arquivo in enumerate(arquivos, start=1):\n",
    "        for k_val in ks:\n",
    "            X, Y = ler_pontos(arquivo)\n",
    "            P, tempo_calc, SSE = ajusta(X, Y, k_val)\n",
    "            resultados.append((arquivo, k_val, tempo_calc, SSE))\n",
    "    return resultados"
   ]
  },
  {
   "cell_type": "code",
   "execution_count": 9,
   "metadata": {},
   "outputs": [],
   "source": [
    "def mostra_tabela(resultados):\n",
    "    print(\"| Arquivo | k  | Tempo de Execução | SSE    |\")\n",
    "    for arq, k_val, tempo, sse in resultados:\n",
    "        print(f\"| {arq} | {k_val} | {tempo:.6f}         | {sse:.6f} |\")"
   ]
  },
  {
   "cell_type": "markdown",
   "metadata": {},
   "source": [
    "## OBS.: Exemplo de criação dos arquivos de teste"
   ]
  },
  {
   "cell_type": "code",
   "execution_count": 12,
   "metadata": {},
   "outputs": [],
   "source": [
    "def cria_arquivos_teste():\n",
    "    dados1 = \"\"\"4\n",
    "1, 2\n",
    "0.5, 3\n",
    "2, 0.7\n",
    "3, 5\"\"\"\n",
    "\n",
    "    dados2 = \"\"\"5\n",
    "1, 1\n",
    "2, 4\n",
    "3, 9\n",
    "4, 16\n",
    "5, 25\"\"\"\n",
    "\n",
    "    dados3 = \"\"\"6\n",
    "1, 1\n",
    "2, 8\n",
    "3, 27\n",
    "4, 64\n",
    "5, 125\n",
    "6, 216\"\"\"\n",
    "\n",
    "    with open(\"arquivo1.txt\", \"w\") as f:\n",
    "        f.write(dados1)\n",
    "\n",
    "    with open(\"arquivo2.txt\", \"w\") as f:\n",
    "        f.write(dados2)\n",
    "\n",
    "    with open(\"arquivo3.txt\", \"w\") as f:\n",
    "        f.write(dados3)\n",
    "\n",
    "\n",
    "# Chamada para criar os arquivos\n",
    "cria_arquivos_teste()"
   ]
  },
  {
   "cell_type": "markdown",
   "metadata": {},
   "source": [
    "f) Qual a complexidade de tempo teórica do seu código para o cálculo de P em função de N (número de pontos) e K (ordem do polinômio)? Os resultados obtidos na tebela estão de acordo com o que era esperado?"
   ]
  },
  {
   "cell_type": "code",
   "execution_count": 48,
   "metadata": {},
   "outputs": [
    {
     "name": "stdout",
     "output_type": "stream",
     "text": [
      "| Arquivo | k  | Tempo de Execução | SSE    |\n",
      "| arquivo1.txt | 1 | 0.000035         | 8.155593 |\n",
      "| arquivo1.txt | 2 | 0.000048         | 0.492462 |\n",
      "| arquivo1.txt | 10 | 0.000272         | 69860.233812 |\n",
      "| arquivo2.txt | 1 | 0.000053         | 14.000000 |\n",
      "| arquivo2.txt | 2 | 0.000043         | 0.000000 |\n",
      "| arquivo2.txt | 10 | 0.000350         | 303658.490661 |\n",
      "| arquivo3.txt | 1 | 0.000029         | 4180.800000 |\n",
      "| arquivo3.txt | 2 | 0.000037         | 64.800000 |\n",
      "| arquivo3.txt | 10 | 0.000334         | 88049420.673869 |\n"
     ]
    }
   ],
   "source": [
    "def complexidade_teorica():\n",
    "    \"\"\"\n",
    "    A complexidade de tempo teórica do cálculo de P é dominada pelas seguintes operações:\n",
    "    1. Construção da matriz A (poly): O(N * K)\n",
    "    2. Cálculo de A^T A: O(N * K^2)\n",
    "    3. Inversão da matriz (inv): O(K^3)\n",
    "    4. Multiplicações de matrizes (matmul): O(K^3) para cada multiplicação\n",
    "\n",
    "    Portanto, a complexidade total é:\n",
    "    O(N * K + N * K^2 + K^3 + K^3) = O(N * K^2 + K^3)\n",
    "\n",
    "    Os resultados obtidos na tabela devem ser comparados com essa complexidade teórica para verificar se estão de acordo com o esperado.\n",
    "    \"\"\"\n",
    "    pass\n",
    "\n",
    "\n",
    "# Exemplo de chamada para mostrar a tabela\n",
    "arquivos = [\"arquivo1.txt\", \"arquivo2.txt\", \"arquivo3.txt\"]\n",
    "resultados = calcula_ajustes(arquivos)\n",
    "mostra_tabela(resultados)"
   ]
  }
 ],
 "metadata": {
  "kernelspec": {
   "display_name": "venv",
   "language": "python",
   "name": "python3"
  },
  "language_info": {
   "codemirror_mode": {
    "name": "ipython",
    "version": 3
   },
   "file_extension": ".py",
   "mimetype": "text/x-python",
   "name": "python",
   "nbconvert_exporter": "python",
   "pygments_lexer": "ipython3",
   "version": "3.12.3"
  }
 },
 "nbformat": 4,
 "nbformat_minor": 2
}
